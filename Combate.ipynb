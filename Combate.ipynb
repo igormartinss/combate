{
  "nbformat": 4,
  "nbformat_minor": 0,
  "metadata": {
    "colab": {
      "name": "Combate.ipynb",
      "provenance": [],
      "authorship_tag": "ABX9TyNE0xQvXegWBtxAmgRgfhi0",
      "include_colab_link": true
    },
    "kernelspec": {
      "name": "python3",
      "display_name": "Python 3"
    }
  },
  "cells": [
    {
      "cell_type": "markdown",
      "metadata": {
        "id": "view-in-github",
        "colab_type": "text"
      },
      "source": [
        "<a href=\"https://colab.research.google.com/github/igormartinss/combate/blob/main/Combate.ipynb\" target=\"_parent\"><img src=\"https://colab.research.google.com/assets/colab-badge.svg\" alt=\"Open In Colab\"/></a>"
      ]
    },
    {
      "cell_type": "markdown",
      "metadata": {
        "id": "oIOpEzgWlVMG"
      },
      "source": [
        "**Criando tabuleiro**"
      ]
    },
    {
      "cell_type": "code",
      "metadata": {
        "id": "K0d140H2lbcZ"
      },
      "source": [
        "tabuleiro = ((0, 0, 0, 0, 0, 0, 0, 0, 0, 0),\n",
        "             (0, 0, 0, 0, 0, 0, 0, 0, 0, 0),\n",
        "             (0, 0, 0, 0, 0, 0, 0, 0, 0, 0),\n",
        "             (0, 0, 0, 0, 0, 0, 0, 0, 0, 0),\n",
        "             (0, 0, 0, 0, 0, 0, 0, 0, 0, 0),\n",
        "             (0, 0, 0, 0, 0, 0, 0, 0, 0, 0),\n",
        "             (0, 0, 0, 0, 0, 0, 0, 0, 0, 0),\n",
        "             (0, 0, 0, 0, 0, 0, 0, 0, 0, 0),\n",
        "             (0, 0, 0, 0, 0, 0, 0, 0, 0, 0),\n",
        "             (0, 0, 0, 0, 0, 0, 0, 0, 0, 0),)"
      ],
      "execution_count": null,
      "outputs": []
    },
    {
      "cell_type": "markdown",
      "metadata": {
        "id": "V_5c2J7Fl80g"
      },
      "source": [
        "**Definindo vencedor**"
      ]
    },
    {
      "cell_type": "code",
      "metadata": {
        "id": "8c_zYGidl_O1"
      },
      "source": [
        "def winner(tab) :\n",
        "  player1 = 0\n",
        "  player2 = 0\n",
        "  for casas in tabuleiro\n",
        "    if casas < 0:\n",
        "      player1++\n",
        "    elif casas > 0:\n",
        "      player2++\n",
        "  if player1 == 0:\n",
        "    return -1\n",
        "  elif player2 == 0:\n",
        "    return 1\n",
        "\n",
        "  return 0    \n"
      ],
      "execution_count": null,
      "outputs": []
    },
    {
      "cell_type": "markdown",
      "metadata": {
        "id": "pbdM9xZdnOnx"
      },
      "source": [
        "**Definindo jogadas válidas**"
      ]
    },
    {
      "cell_type": "code",
      "metadata": {
        "id": "a6hJb8WNnQv9"
      },
      "source": [
        "def get_valid_moves(tab) :\n",
        "  valids = []\n",
        "  for i in range(len(tabuleiro)) :\n",
        "    if tabuleiro[i] == 0 :\n",
        "      valids.append(i)\n",
        "  return valids"
      ],
      "execution_count": null,
      "outputs": []
    }
  ]
}